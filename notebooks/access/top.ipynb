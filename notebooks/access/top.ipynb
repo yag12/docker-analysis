{
 "metadata": {
  "name": "",
  "signature": "sha256:7e81624e46cb15f0bd1c601580850f785ea1e1ab070b0f3e5f2974ab2df20754"
 },
 "nbformat": 3,
 "nbformat_minor": 0,
 "worksheets": [
  {
   "cells": [
    {
     "cell_type": "code",
     "collapsed": false,
     "input": [
      "%pylab inline"
     ],
     "language": "python",
     "metadata": {},
     "outputs": [
      {
       "output_type": "stream",
       "stream": "stdout",
       "text": [
        "Populating the interactive namespace from numpy and matplotlib\n"
       ]
      }
     ],
     "prompt_number": 1
    },
    {
     "cell_type": "code",
     "collapsed": false,
     "input": [
      "import pandas as pd\n",
      "import numpy as np\n",
      "from pandas import Series, DataFrame, Panel, concat\n",
      "from os import environ, path\n",
      "import time\n",
      "import glob"
     ],
     "language": "python",
     "metadata": {},
     "outputs": [],
     "prompt_number": 2
    },
    {
     "cell_type": "code",
     "collapsed": false,
     "input": [
      "sdate = environ.get('sdate', '2014-10-01')\n",
      "edate = environ.get('edate', '2014-10-31')\n",
      "topid = environ.get('topid', '5')\n",
      "topid = int(topid)\n",
      "isdate = int(sdate.replace(\"-\", \"\") + \"0000\")\n",
      "iedate = int(edate.replace(\"-\", \"\") + \"2359\")"
     ],
     "language": "python",
     "metadata": {},
     "outputs": [],
     "prompt_number": 3
    },
    {
     "cell_type": "code",
     "collapsed": false,
     "input": [
      "def chg_time(log_time):\n",
      "    return time.ctime(log_time)"
     ],
     "language": "python",
     "metadata": {},
     "outputs": [],
     "prompt_number": 4
    },
    {
     "cell_type": "code",
     "collapsed": false,
     "input": [
      "t_cols = ['log_time', 'player_id', 'country', 'lv', 'os', 'device', 'yc', 'cheer_point', 'yp', 'sp', 'ep', 'type', 'is_daily_first_login']\n",
      "log_file = glob.glob('/logfile/account/*_csv_log_account_login.csv')\n",
      "df = None\n",
      "\n",
      "for fname in log_file:\n",
      "    regdate = int(path.basename(fname).split(\"_\")[4])\n",
      "    if isdate <= regdate and iedate >= regdate:\n",
      "        csv = pd.read_csv(fname, names=t_cols)\n",
      "        if df is not None:\n",
      "            df = concat([df[0:], csv[0:]])\n",
      "        else:\n",
      "            df = csv"
     ],
     "language": "python",
     "metadata": {},
     "outputs": [],
     "prompt_number": 5
    },
    {
     "cell_type": "code",
     "collapsed": false,
     "input": [
      "df['log_time'] = df['log_time'].apply(chg_time)\n",
      "df.index = pd.to_datetime(df.pop('log_time'))"
     ],
     "language": "python",
     "metadata": {},
     "outputs": [],
     "prompt_number": 6
    },
    {
     "cell_type": "code",
     "collapsed": false,
     "input": [
      "grouped_player = df.groupby('player_id').size()\n",
      "grouped_player.sort(ascending=0)"
     ],
     "language": "python",
     "metadata": {},
     "outputs": [],
     "prompt_number": 7
    },
    {
     "cell_type": "code",
     "collapsed": false,
     "input": [
      "df_date = df\n",
      "t_span = '1D'\n",
      "t_player_id = grouped_player[:topid].index\n",
      "player_data = {}\n",
      "player_sum = [{'player_id':'total', '\ub85c\uadf8\uc778':sum(df_date['player_id'].resample(t_span, how='count'))}]\n",
      "for no in t_player_id:\n",
      "    player_data[no] = df_date['player_id'][df_date['player_id'] == no].resample(t_span, how='count')\n",
      "    player_sum.append({'player_id':no, '\ub85c\uadf8\uc778':sum(df_date['player_id'][df_date['player_id'] == no].resample(t_span, how='count'))})\n",
      "df_player = DataFrame(player_data)"
     ],
     "language": "python",
     "metadata": {},
     "outputs": [],
     "prompt_number": 8
    },
    {
     "cell_type": "code",
     "collapsed": false,
     "input": [
      "DataFrame(player_sum)"
     ],
     "language": "python",
     "metadata": {},
     "outputs": [
      {
       "html": [
        "<div style=\"max-height:1000px;max-width:1500px;overflow:auto;\">\n",
        "<table border=\"1\" class=\"dataframe\">\n",
        "  <thead>\n",
        "    <tr style=\"text-align: right;\">\n",
        "      <th></th>\n",
        "      <th>player_id</th>\n",
        "      <th>\ub85c\uadf8\uc778</th>\n",
        "    </tr>\n",
        "  </thead>\n",
        "  <tbody>\n",
        "    <tr>\n",
        "      <th>0</th>\n",
        "      <td> total</td>\n",
        "      <td> 391</td>\n",
        "    </tr>\n",
        "    <tr>\n",
        "      <th>1</th>\n",
        "      <td>    14</td>\n",
        "      <td> 212</td>\n",
        "    </tr>\n",
        "    <tr>\n",
        "      <th>2</th>\n",
        "      <td>    19</td>\n",
        "      <td>  43</td>\n",
        "    </tr>\n",
        "    <tr>\n",
        "      <th>3</th>\n",
        "      <td>    16</td>\n",
        "      <td>  42</td>\n",
        "    </tr>\n",
        "    <tr>\n",
        "      <th>4</th>\n",
        "      <td>     3</td>\n",
        "      <td>  41</td>\n",
        "    </tr>\n",
        "    <tr>\n",
        "      <th>5</th>\n",
        "      <td>    18</td>\n",
        "      <td>  36</td>\n",
        "    </tr>\n",
        "  </tbody>\n",
        "</table>\n",
        "</div>"
       ],
       "metadata": {},
       "output_type": "pyout",
       "prompt_number": 9,
       "text": [
        "  player_id  \ub85c\uadf8\uc778\n",
        "0     total  391\n",
        "1        14  212\n",
        "2        19   43\n",
        "3        16   42\n",
        "4         3   41\n",
        "5        18   36"
       ]
      }
     ],
     "prompt_number": 9
    },
    {
     "cell_type": "code",
     "collapsed": false,
     "input": [
      "df_player.plot()"
     ],
     "language": "python",
     "metadata": {},
     "outputs": [
      {
       "metadata": {},
       "output_type": "pyout",
       "prompt_number": 10,
       "text": [
        "<matplotlib.axes._subplots.AxesSubplot at 0x7fd3662a5650>"
       ]
      },
      {
       "metadata": {},
       "output_type": "display_data",
       "png": "[encoded data removed]",
       "text": [
        "<matplotlib.figure.Figure at 0x7fd366747050>"
       ]
      }
     ],
     "prompt_number": 10
    },
    {
     "cell_type": "code",
     "collapsed": false,
     "input": [],
     "language": "python",
     "metadata": {},
     "outputs": [],
     "prompt_number": 10
    }
   ],
   "metadata": {}
  }
 ]
}