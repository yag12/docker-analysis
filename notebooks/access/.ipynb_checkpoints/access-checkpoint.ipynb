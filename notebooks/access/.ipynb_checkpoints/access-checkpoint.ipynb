{
 "metadata": {
  "name": "",
  "signature": "sha256:bc97229291654dbdc845d6b8079a79aa21e63a06027c6aa77fd10c54230f7169"
 },
 "nbformat": 3,
 "nbformat_minor": 0,
 "worksheets": [
  {
   "cells": [
    {
     "cell_type": "code",
     "collapsed": false,
     "input": [
      "%pylab inline"
     ],
     "language": "python",
     "metadata": {},
     "outputs": [
      {
       "output_type": "stream",
       "stream": "stdout",
       "text": [
        "Populating the interactive namespace from numpy and matplotlib\n"
       ]
      }
     ],
     "prompt_number": 1
    },
    {
     "cell_type": "code",
     "collapsed": false,
     "input": [
      "import pandas as pd\n",
      "import numpy as np\n",
      "from pandas import Series, DataFrame, Panel, concat\n",
      "from os import environ, path\n",
      "import time\n",
      "import glob"
     ],
     "language": "python",
     "metadata": {},
     "outputs": [],
     "prompt_number": 2
    },
    {
     "cell_type": "code",
     "collapsed": false,
     "input": [
      "sdate = environ.get('sdate', '2014-10-20')\n",
      "edate = environ.get('edate', '2014-10-31')\n",
      "isdate = int(sdate.replace(\"-\", \"\") + \"0000\")\n",
      "iedate = int(edate.replace(\"-\", \"\") + \"2359\")"
     ],
     "language": "python",
     "metadata": {},
     "outputs": [],
     "prompt_number": 3
    },
    {
     "cell_type": "code",
     "collapsed": false,
     "input": [
      "def chg_time(log_time):\n",
      "    return time.ctime(log_time)"
     ],
     "language": "python",
     "metadata": {},
     "outputs": [],
     "prompt_number": 4
    },
    {
     "cell_type": "code",
     "collapsed": false,
     "input": [
      "t_cols = ['log_time', 'player_id', 'country', 'lv', 'os', 'device', 'yc', 'cheer_point', 'yp', 'sp', 'ep', 'type', 'is_daily_first_login']\n",
      "log_file = glob.glob('/logfile/account/*_csv_log_account_login.csv')\n",
      "df = None\n",
      "\n",
      "for fname in log_file:\n",
      "    regdate = int(path.basename(fname).split(\"_\")[4])\n",
      "    if isdate <= regdate and iedate >= regdate:\n",
      "        csv = pd.read_csv(fname, names=t_cols)\n",
      "        if df is not None:\n",
      "            df = concat([df[0:], csv[0:]])\n",
      "        else:\n",
      "            df = csv"
     ],
     "language": "python",
     "metadata": {},
     "outputs": [],
     "prompt_number": 5
    },
    {
     "cell_type": "code",
     "collapsed": false,
     "input": [
      "df['log_time'] = df['log_time'].apply(chg_time)\n",
      "df.index = pd.to_datetime(df.pop('log_time'))"
     ],
     "language": "python",
     "metadata": {},
     "outputs": [],
     "prompt_number": 6
    },
    {
     "cell_type": "code",
     "collapsed": false,
     "input": [
      "t_span = '1D'\n",
      "df_date = DataFrame({'\ub85c\uadf8\uc778\uc218':df['player_id'].resample(t_span, how='count'),'\uc811\uc18d\uc720\uc800\uc218':df['player_id'][df['is_daily_first_login'] == 1].resample(t_span, how='count'),})\n",
      "df_date[np.isnan(df_date)] = 0"
     ],
     "language": "python",
     "metadata": {},
     "outputs": [],
     "prompt_number": 7
    },
    {
     "cell_type": "code",
     "collapsed": false,
     "input": [
      "df_date"
     ],
     "language": "python",
     "metadata": {},
     "outputs": [
      {
       "html": [
        "<div style=\"max-height:1000px;max-width:1500px;overflow:auto;\">\n",
        "<table border=\"1\" class=\"dataframe\">\n",
        "  <thead>\n",
        "    <tr style=\"text-align: right;\">\n",
        "      <th></th>\n",
        "      <th>\ub85c\uadf8\uc778\uc218</th>\n",
        "      <th>\uc811\uc18d\uc720\uc800\uc218</th>\n",
        "    </tr>\n",
        "    <tr>\n",
        "      <th>log_time</th>\n",
        "      <th></th>\n",
        "      <th></th>\n",
        "    </tr>\n",
        "  </thead>\n",
        "  <tbody>\n",
        "    <tr>\n",
        "      <th>2014-10-20</th>\n",
        "      <td> 18</td>\n",
        "      <td> 2</td>\n",
        "    </tr>\n",
        "    <tr>\n",
        "      <th>2014-10-21</th>\n",
        "      <td> 21</td>\n",
        "      <td> 1</td>\n",
        "    </tr>\n",
        "    <tr>\n",
        "      <th>2014-10-22</th>\n",
        "      <td> 35</td>\n",
        "      <td> 1</td>\n",
        "    </tr>\n",
        "    <tr>\n",
        "      <th>2014-10-23</th>\n",
        "      <td> 27</td>\n",
        "      <td> 1</td>\n",
        "    </tr>\n",
        "    <tr>\n",
        "      <th>2014-10-24</th>\n",
        "      <td> 16</td>\n",
        "      <td> 2</td>\n",
        "    </tr>\n",
        "    <tr>\n",
        "      <th>2014-10-25</th>\n",
        "      <td>  0</td>\n",
        "      <td> 0</td>\n",
        "    </tr>\n",
        "    <tr>\n",
        "      <th>2014-10-26</th>\n",
        "      <td>  0</td>\n",
        "      <td> 0</td>\n",
        "    </tr>\n",
        "    <tr>\n",
        "      <th>2014-10-27</th>\n",
        "      <td> 47</td>\n",
        "      <td> 2</td>\n",
        "    </tr>\n",
        "    <tr>\n",
        "      <th>2014-10-28</th>\n",
        "      <td> 60</td>\n",
        "      <td> 3</td>\n",
        "    </tr>\n",
        "    <tr>\n",
        "      <th>2014-10-29</th>\n",
        "      <td> 47</td>\n",
        "      <td> 3</td>\n",
        "    </tr>\n",
        "    <tr>\n",
        "      <th>2014-10-30</th>\n",
        "      <td> 20</td>\n",
        "      <td> 2</td>\n",
        "    </tr>\n",
        "    <tr>\n",
        "      <th>2014-10-31</th>\n",
        "      <td> 20</td>\n",
        "      <td> 1</td>\n",
        "    </tr>\n",
        "  </tbody>\n",
        "</table>\n",
        "</div>"
       ],
       "metadata": {},
       "output_type": "pyout",
       "prompt_number": 8,
       "text": [
        "            \ub85c\uadf8\uc778\uc218  \uc811\uc18d\uc720\uc800\uc218\n",
        "log_time               \n",
        "2014-10-20    18      2\n",
        "2014-10-21    21      1\n",
        "2014-10-22    35      1\n",
        "2014-10-23    27      1\n",
        "2014-10-24    16      2\n",
        "2014-10-25     0      0\n",
        "2014-10-26     0      0\n",
        "2014-10-27    47      2\n",
        "2014-10-28    60      3\n",
        "2014-10-29    47      3\n",
        "2014-10-30    20      2\n",
        "2014-10-31    20      1"
       ]
      }
     ],
     "prompt_number": 8
    },
    {
     "cell_type": "code",
     "collapsed": false,
     "input": [
      "df_date = df_date.rename(columns={'\ub85c\uadf8\uc778\uc218': 'Access', '\uc811\uc18d\uc720\uc800\uc218': 'User'})"
     ],
     "language": "python",
     "metadata": {},
     "outputs": [],
     "prompt_number": 9
    },
    {
     "cell_type": "code",
     "collapsed": false,
     "input": [
      "df_date.plot()"
     ],
     "language": "python",
     "metadata": {},
     "outputs": [
      {
       "metadata": {},
       "output_type": "pyout",
       "prompt_number": 10,
       "text": [
        "<matplotlib.axes._subplots.AxesSubplot at 0x7fbfe2683750>"
       ]
      },
      {
       "metadata": {},
       "output_type": "display_data",
       "png": "[encoded data removed]",
       "text": [
        "<matplotlib.figure.Figure at 0x7fbfe270f6d0>"
       ]
      }
     ],
     "prompt_number": 10
    },
    {
     "cell_type": "code",
     "collapsed": false,
     "input": [],
     "language": "python",
     "metadata": {},
     "outputs": [],
     "prompt_number": 10
    }
   ],
   "metadata": {}
  }
 ]
}